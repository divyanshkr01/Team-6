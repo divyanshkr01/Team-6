{
  "cells": [
    {
      "cell_type": "code",
      "execution_count": 116,
      "metadata": {
        "id": "CLjkUhXSEk5V"
      },
      "outputs": [],
      "source": [
        "import requests\n",
        "from bs4 import BeautifulSoup"
      ]
    },
    {
      "cell_type": "markdown",
      "metadata": {
        "id": "S-hghOSCEk5c"
      },
      "source": [
        "Function to analyze the tags of a YouTube video"
      ]
    },
    {
      "cell_type": "code",
      "execution_count": 136,
      "metadata": {
        "id": "mD7BOPiVEk5g"
      },
      "outputs": [],
      "source": [
        "def analyze_tags(video_url):\n",
        "    # Extract video ID from URL\n",
        "    video_id = video_url.split('=')[1]\n",
        "    # Make GET request to YouTube video page\n",
        "    response = requests.get(f'https://www.youtube.com/watch?v=5_1jN59ASec&ab_channel=W3grads')\n",
        "    #print(response.content)\n",
        "    # Parse the HTML content\n",
        "    soup = BeautifulSoup(response.content, 'html.parser')\n",
        "    # Extract the tags from the meta tags\n",
        "    tags = [tag['content'] for tag in soup.find_all('meta', attrs={'name': 'keywords'})]\n",
        "    for i in tags:\n",
        "      print(i)\n",
        "    return tags"
      ]
    },
    {
      "cell_type": "markdown",
      "metadata": {
        "id": "qq-xY1mdEk5i"
      },
      "source": [
        "Function to determine top-performing videos related to the given video"
      ]
    },
    {
      "cell_type": "code",
      "source": [
        "def get_top_videos(video_url):\n",
        "    # Make GET request to YouTube search page with tags as search query\n",
        "    #response = requests.get(f'https://www.youtube.com/results?search_query={\"Introduceyourself+\".join('likepro')}')\n",
        "    video_id = video_url.split('=')[1]\n",
        "    response = requests.get(f'https://www.youtube.com/watch?v=q22JrhzFEuQ&ab_channhel=SpokenEnglishGuru')\n",
        "    # Parse the HTML content\n",
        "    soup = BeautifulSoup(response.content, 'html.parser')\n",
        "    # Extract video links from search results'\n",
        "\n",
        "    tags = [tag['content'] for tag in soup.find_all('meta', attrs={'name': 'keywords'})]\n",
        "    for i in tags:\n",
        "      print(i)\n",
        "    return tags\n",
        "\n",
        "    # video_links = soup.find_all('a')\n",
        "\n",
        "    # # video_links = [link['href'] for link in soup.find_all('a', attrs={'class': 'yt-uix-tile-link'})]\n",
        "    # for i in video_links:\n",
        "    #   if 'href' in i.attrs:\n",
        "    #     print(str(i.attrs['href']) + \"\\n\")\n",
        "    # return video_links\n",
        "import requests\n",
        "from bs4 import BeautifulSoup"
      ],
      "metadata": {
        "id": "A8UGaXYxaEKO"
      },
      "execution_count": 137,
      "outputs": []
    },
    {
      "cell_type": "markdown",
      "metadata": {
        "id": "s02IqDfxEk5l"
      },
      "source": [
        "Function to analyze the tags of a YouTube video"
      ]
    },
    {
      "cell_type": "code",
      "execution_count": 138,
      "metadata": {
        "id": "vmxX0K1zEk5m"
      },
      "outputs": [],
      "source": [
        "def analyze_tags(video_url):\n",
        "    # Extract video ID from URL\n",
        "    video_id = video_url.split('=')[1]\n",
        "    # Make GET request to YouTube video page\n",
        "    response = requests.get(f'https://www.youtube.com/watch?v=v64T8Mk5_Tc&ab_channel=TipsTelugu')\n",
        "    # Parse the HTML content\n",
        "    soup = BeautifulSoup(response.content, 'html.parser')\n",
        "    # Extract the tags from the meta tags\n",
        "    tags = [tag['content'] for tag in soup.find_all('meta', attrs={'name': 'keywords'})]\n",
        "    return tags"
      ]
    },
    {
      "cell_type": "markdown",
      "metadata": {
        "id": "dXJsLn90Ek5n"
      },
      "source": [
        "Function to determine top-performing videos related to the given video"
      ]
    },
    {
      "cell_type": "code",
      "execution_count": 139,
      "metadata": {
        "id": "rEoAWJv7Ek5p"
      },
      "outputs": [],
      "source": [
        "def get_top_videos(tags):\n",
        "    # Make GET request to YouTube search page with tags as search query\n",
        "    response = requests.get(f'https://www.youtube.com/results?search_query={\"Introduce\"}')\n",
        "    # Parse the HTML content\n",
        "    soup = BeautifulSoup(response.content, 'html.parser')\n",
        "    # Extract video links from search results\n",
        "    video_links = [link['href'] for link in soup.find_all('a', attrs={'class': 'yt-uix-tile-link'})]\n",
        "    for i in video_links:\n",
        "      print(i)\n",
        "    return video_links"
      ]
    },
    {
      "cell_type": "markdown",
      "metadata": {
        "id": "Bq7HuEuWEk5r"
      },
      "source": [
        "Function to identify differences in tags between top videos and given video"
      ]
    },
    {
      "cell_type": "code",
      "execution_count": 140,
      "metadata": {
        "id": "CC1kGxmyEk5s"
      },
      "outputs": [],
      "source": [
        "def identify_tag_differences(top_videos, given_tags):\n",
        "    tag_differences = []\n",
        "    for video_link in top_videos:\n",
        "        tags = analyze_tags(f'https://www.youtube.com/watch?v=q22JrhzFEuQ&ab_channel=SpokenEnglishGuru')\n",
        "        for tag in tags:\n",
        "            if tag not in given_tags and tag not in tag_differences:\n",
        "                tag_differences.append(tag)\n",
        "                for i in tags:\n",
        "                  print(i)\n",
        "    return tag_differences"
      ]
    },
    {
      "cell_type": "markdown",
      "metadata": {
        "id": "HILuTwKQEk5t"
      },
      "source": [
        "Function to suggest changes to the tags of the given video"
      ]
    },
    {
      "cell_type": "code",
      "execution_count": 141,
      "metadata": {
        "id": "AMMLfgyTEk5u"
      },
      "outputs": [],
      "source": [
        "def suggest_tag_changes(given_tags, tag_differences):\n",
        "    suggested_changes = []\n",
        "    for tag in tag_differences:\n",
        "        if tag not in given_tags and tag not in suggested_changes:\n",
        "            suggested_changes.append(tag)\n",
        "\n",
        "        for i in suggested_changes:\n",
        "          print(i)\n",
        "    return suggested_changes"
      ]
    },
    {
      "cell_type": "markdown",
      "metadata": {
        "id": "bK1b7XJYEk5w"
      },
      "source": [
        "Function to update the tags of the given video on YouTube"
      ]
    },
    {
      "cell_type": "code",
      "execution_count": 142,
      "metadata": {
        "id": "w3r_SW2EEk5w"
      },
      "outputs": [],
      "source": [
        "def update_video_tags(video_url, suggested_changes):\n",
        "    video_id = video_url.split('=')[1]\n",
        "    tags = ','.join(suggested_changes)\n",
        "    # Make POST request to update video tags\n",
        "    response = requests.post(f'https://www.youtube.com/watch?v=s3--T7YgX4I&ab_channel=SaloniSukirti&action_edit=1',\n",
        "                             data={'keywords': tags})\n",
        "    if response.status_code == 200:\n",
        "        print('Tags updated successfully!')\n",
        "    else:\n",
        "        print('Failed to update tags.')"
      ]
    },
    {
      "cell_type": "markdown",
      "metadata": {
        "id": "o5Jbgxz3Ek5y"
      },
      "source": [
        "Example usage"
      ]
    },
    {
      "cell_type": "code",
      "execution_count": 135,
      "metadata": {
        "colab": {
          "base_uri": "https://localhost:8080/"
        },
        "id": "WOUeC4z_Ek5y",
        "outputId": "0885d73f-08d2-42a0-cae9-147e6f76f9f9"
      },
      "outputs": [
        {
          "output_type": "stream",
          "name": "stdout",
          "text": [
            "given_tags\n",
            "#motivation, #programmer, #interview, self introduction, interview questions, tell me something about yourself\n",
            "top_videos\n",
            "spoken english, spoken english guru, self introduction, apna introduction kaise de, self introduction in interview, self introduction in college, introduction, introduction video, introduction in english, introduce yourself, introduce yourself in interview, introduce yourself in english, introduce myself, how to introduce yourself, how to introduce yourself in english, my introduction, my introduction in english, english speaking practice, daily english speaking practice\n",
            "tag_differences\n",
            "#motivation, #programmer, #interview, self introduction, interview questions, tell me something about yourself\n",
            "suggested_tags\n",
            "updated_tags\n"
          ]
        }
      ],
      "source": [
        "video_url = 'https://www.youtube.com/watch?v=s3--T7YgX4I&ab_channel=SaloniSukirti'  # Replace with actual YouTube video URL\n",
        "video_url_top = 'https://www.youtube.com/watch?v=q22JrhzFEuQ&ab_channhel=SpokenEnglishGuru'\n",
        "print(\"given_tags\")\n",
        "given_tags = analyze_tags(video_url)\n",
        "print(\"top_videos\")\n",
        "top_videos = get_top_videos(video_url_top)\n",
        "print(\"tag_differences\")\n",
        "tag_differences = identify_tag_differences(top_videos, given_tags)\n",
        "print(\"suggested_tags\")\n",
        "suggested_changes = suggest_tag_changes(given_tags, tag_differences)\n",
        "print(\"updated_tags\")\n",
        "#update_video_tags(video_url, suggested_changes)"
      ]
    }
  ],
  "metadata": {
    "colab": {
      "provenance": []
    },
    "kernelspec": {
      "display_name": "Python 3",
      "language": "python",
      "name": "python3"
    },
    "language_info": {
      "codemirror_mode": {
        "name": "ipython",
        "version": 3
      },
      "file_extension": ".py",
      "mimetype": "text/x-python",
      "name": "python",
      "nbconvert_exporter": "python",
      "pygments_lexer": "ipython3",
      "version": "3.6.4"
    }
  },
  "nbformat": 4,
  "nbformat_minor": 0
}